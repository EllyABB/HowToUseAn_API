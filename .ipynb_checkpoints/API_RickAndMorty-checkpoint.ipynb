{
 "cells": [
  {
   "cell_type": "code",
   "execution_count": 3,
   "id": "24fc68b4",
   "metadata": {},
   "outputs": [],
   "source": [
    "import requests\n",
    "from datetime import datetime\n",
    "import json"
   ]
  },
  {
   "cell_type": "markdown",
   "id": "ce345f65",
   "metadata": {},
   "source": [
    "# datatime\n",
    "Paginas de info:\n",
    "- https://pynative.com/python-datetime-format-strftime/\n"
   ]
  },
  {
   "cell_type": "markdown",
   "id": "e3f22564",
   "metadata": {},
   "source": [
    "\n",
    "## Types of Requests\n",
    "\n",
    "Types of Requests or HTTP Request Methods characterize what action we are going to take by referring to the API.\n",
    "\n",
    "In total, there are four main types of actions:\n",
    "\n",
    "- GET: retrieve information (like search results). This is the most common type of request. Using it, we can get the data we are interested in from those that the API is ready to share.\n",
    "\n",
    "- POST: adds new data to the server. Using this type of request, you can, for example, add a new item to your inventory.\n",
    "\n",
    "- PUT: changes existing information. For example, using this type of request, it would be possible to change the color or value of an existing product.\n",
    "- DELETE: deletes existing information"
   ]
  },
  {
   "cell_type": "code",
   "execution_count": 2,
   "id": "c3ad3f9a",
   "metadata": {},
   "outputs": [
    {
     "ename": "NameError",
     "evalue": "name 'requests' is not defined",
     "output_type": "error",
     "traceback": [
      "\u001b[0;31m---------------------------------------------------------------------------\u001b[0m",
      "\u001b[0;31mNameError\u001b[0m                                 Traceback (most recent call last)",
      "Cell \u001b[0;32mIn[2], line 1\u001b[0m\n\u001b[0;32m----> 1\u001b[0m response \u001b[38;5;241m=\u001b[39m \u001b[43mrequests\u001b[49m\u001b[38;5;241m.\u001b[39mget(\u001b[38;5;124m'\u001b[39m\u001b[38;5;124mhttps://rickandmortyapi.com/\u001b[39m\u001b[38;5;124m'\u001b[39m)\n",
      "\u001b[0;31mNameError\u001b[0m: name 'requests' is not defined"
     ]
    }
   ],
   "source": [
    "response = requests.get('https://rickandmortyapi.com/')"
   ]
  },
  {
   "cell_type": "code",
   "execution_count": 11,
   "id": "698bb759",
   "metadata": {},
   "outputs": [
    {
     "name": "stdout",
     "output_type": "stream",
     "text": [
      "<Response [200]>\n"
     ]
    }
   ],
   "source": [
    "print(response)"
   ]
  },
  {
   "cell_type": "markdown",
   "id": "b8a587ee",
   "metadata": {},
   "source": [
    "## Status Codes\n",
    "Status codes are returned with a response after each call to the server. They briefly describe the result of the call. There is a large number of status codes, we give those that you will most often meet:\n",
    "\n",
    "- **200 – OK. The request was successful. The answer itself depends on the method used (GET, POST, etc.) and the API specification.**\n",
    "\n",
    "\n",
    "- 204 – No Content. The server successfully processed the request and did not return any content.\n",
    "- 301 – Moved Permanently. The server responds that the requested page (endpoint) has been moved to another address and redirects to this address.\n",
    "- 400 – Bad Request. The server cannot process the request because the client-side errors (incorrect request format).\n",
    "- 401 – Unauthorized. Occurs when authentication was failed, due to incorrect credentials or even their absence.\n",
    "- 403 – Forbidden. Access to the specified resource is denied.\n",
    "- 404 – Not Found. The requested resource was not found on the server.\n",
    "- 500 – Internal Server Error. Occurs when an unknown error has occurred on the server.\n",
    "\n",
    "The request library has several useful properties for working with status codes. For example, you can simply view the status of the response code by accessing .status_code:"
   ]
  },
  {
   "cell_type": "markdown",
   "id": "7c809087",
   "metadata": {},
   "source": [
    "The request library has several useful properties for working with status codes. For example, you can simply view the status of the response code by accessing .status_code:\n",
    "\n"
   ]
  },
  {
   "cell_type": "code",
   "execution_count": 12,
   "id": "2b5940f6",
   "metadata": {},
   "outputs": [
    {
     "name": "stdout",
     "output_type": "stream",
     "text": [
      "200\n"
     ]
    }
   ],
   "source": [
    "print(response.status_code)"
   ]
  },
  {
   "cell_type": "markdown",
   "id": "de473e49",
   "metadata": {},
   "source": [
    "That’s not all. You can use Response instance in a conditional expression. It will evaluate to True if the status code was between 200 and 400, and False otherwise.\n",
    "\n"
   ]
  },
  {
   "cell_type": "code",
   "execution_count": 13,
   "id": "b6cbfefb",
   "metadata": {},
   "outputs": [
    {
     "name": "stdout",
     "output_type": "stream",
     "text": [
      "Request is successful.\n"
     ]
    }
   ],
   "source": [
    "if response:\n",
    "  print('Request is successful.')\n",
    "else:\n",
    "  print('Request returned an error.')"
   ]
  },
  {
   "cell_type": "code",
   "execution_count": 24,
   "id": "6f072652",
   "metadata": {},
   "outputs": [
    {
     "name": "stdout",
     "output_type": "stream",
     "text": [
      "dict_keys(['count', 'pages', 'next', 'prev'])\n"
     ]
    }
   ],
   "source": [
    "temp=requests.get('https://rickandmortyapi.com/api/character/').json()\n",
    "print( temp['info'].keys())"
   ]
  },
  {
   "cell_type": "code",
   "execution_count": null,
   "id": "d2d0d728",
   "metadata": {},
   "outputs": [],
   "source": []
  },
  {
   "cell_type": "markdown",
   "id": "0393b58b",
   "metadata": {},
   "source": [
    "# EndPoint"
   ]
  },
  {
   "cell_type": "markdown",
   "id": "d5678372",
   "metadata": {},
   "source": [
    "Usually, an Endpoint is a specific addres, by referring to which you get access to certain features/data (in our case – the weather forecast for London). Commonly, the name (address) of the endpoint corresponds to the functionality it provides.\n"
   ]
  },
  {
   "cell_type": "code",
   "execution_count": 4,
   "id": "1d50d3c1",
   "metadata": {},
   "outputs": [],
   "source": [
    "url=\"https://rickandmortyapi.com/api/\"\n",
    "character_url=url+\"character/\"\n",
    "location_url=url+\"location/\"\n",
    "episode_url=url+\"episode/\"\n"
   ]
  },
  {
   "cell_type": "code",
   "execution_count": 10,
   "id": "cbcedf4b",
   "metadata": {},
   "outputs": [],
   "source": [
    "tem=requests.get(character_url).json()"
   ]
  },
  {
   "cell_type": "code",
   "execution_count": 11,
   "id": "75504e22",
   "metadata": {},
   "outputs": [
    {
     "data": {
      "text/plain": [
       "dict_keys(['count', 'pages', 'next', 'prev'])"
      ]
     },
     "execution_count": 11,
     "metadata": {},
     "output_type": "execute_result"
    }
   ],
   "source": [
    "tem['info'].keys()"
   ]
  },
  {
   "cell_type": "markdown",
   "id": "14614365",
   "metadata": {},
   "source": [
    "## Encaminado a la tarea a resolver:"
   ]
  },
  {
   "cell_type": "markdown",
   "id": "765b6e06",
   "metadata": {},
   "source": [
    "Nombre del Personaje string name\n",
    "\n",
    "Especie del Personaje string species\n",
    "\n",
    "Imagen en Base64 string image\n",
    "\n",
    "Nombre del primer episodio en el que salio\n",
    "\n",
    "Fecha del primer episodio"
   ]
  },
  {
   "cell_type": "code",
   "execution_count": 213,
   "id": "067e2700",
   "metadata": {},
   "outputs": [],
   "source": [
    "Rick=requests.get(character_url+'11').json()"
   ]
  },
  {
   "cell_type": "code",
   "execution_count": 214,
   "id": "9dd5f165",
   "metadata": {},
   "outputs": [
    {
     "data": {
      "text/plain": [
       "'https://rickandmortyapi.com/api/character/avatar/11.jpeg'"
      ]
     },
     "execution_count": 214,
     "metadata": {},
     "output_type": "execute_result"
    }
   ],
   "source": [
    "Rick['image']"
   ]
  },
  {
   "cell_type": "code",
   "execution_count": 215,
   "id": "bfe3b605",
   "metadata": {},
   "outputs": [
    {
     "data": {
      "text/plain": [
       "'Albert Einstein'"
      ]
     },
     "execution_count": 215,
     "metadata": {},
     "output_type": "execute_result"
    }
   ],
   "source": [
    "Rick['name']"
   ]
  },
  {
   "cell_type": "markdown",
   "id": "9032699e",
   "metadata": {},
   "source": [
    "# Veamos la Imagen:]"
   ]
  },
  {
   "cell_type": "code",
   "execution_count": 18,
   "id": "693ebced",
   "metadata": {},
   "outputs": [],
   "source": [
    "from IPython.display import display\n",
    "from PIL import Image"
   ]
  },
  {
   "cell_type": "code",
   "execution_count": 28,
   "id": "96066992",
   "metadata": {},
   "outputs": [],
   "source": [
    "Rick=requests.get(character_url+'11').json()\n",
    "im = Image.open(requests.get(Rick['image'], stream=True).raw) #No se que es stream raw"
   ]
  },
  {
   "cell_type": "code",
   "execution_count": 34,
   "id": "85e84399",
   "metadata": {},
   "outputs": [
    {
     "data": {
      "text/plain": [
       "PIL.JpegImagePlugin.JpegImageFile"
      ]
     },
     "execution_count": 34,
     "metadata": {},
     "output_type": "execute_result"
    }
   ],
   "source": [
    "type(im)"
   ]
  },
  {
   "cell_type": "code",
   "execution_count": 42,
   "id": "d7426970",
   "metadata": {},
   "outputs": [],
   "source": [
    "import io\n",
    "\n",
    "# Encode your PIL Image as a JPEG without writing to disk\n",
    "buffer = io.BytesIO()\n",
    "im.save(buffer, format='JPEG', quality=75)\n",
    "\n",
    "# You probably want\n",
    "desiredObject = buffer.getbuffer()\n",
    "\n",
    "# to base64\n",
    "converted_string = base64.b64encode(desiredObject)\n",
    "#print(converted_string)"
   ]
  },
  {
   "cell_type": "code",
   "execution_count": 38,
   "id": "dcb48aa5",
   "metadata": {},
   "outputs": [
    {
     "data": {
      "image/png": "[encoded data removed]",
      "text/plain": [
       "<PIL.JpegImagePlugin.JpegImageFile image mode=RGB size=300x300 at 0x7F2CF8049220>"
      ]
     },
     "metadata": {},
     "output_type": "display_data"
    }
   ],
   "source": [
    "display(im)"
   ]
  },
  {
   "cell_type": "markdown",
   "id": "204181be",
   "metadata": {},
   "source": [
    "Ahora necesitamos pasarla al formato requerido"
   ]
  },
  {
   "cell_type": "code",
   "execution_count": null,
   "id": "723f1384",
   "metadata": {},
   "outputs": [],
   "source": []
  },
  {
   "cell_type": "code",
   "execution_count": null,
   "id": "59d1c017",
   "metadata": {},
   "outputs": [],
   "source": []
  },
  {
   "cell_type": "markdown",
   "id": "7bb1d017",
   "metadata": {},
   "source": [
    "# Json\n",
    "\n",
    "JSON (JavaScript Object Notation) is a popular data format used for representing structured data. It's common to transmit and receive data between a server and web application in JSON format.\n",
    "\n",
    "In Python, JSON exists as a string."
   ]
  },
  {
   "cell_type": "markdown",
   "id": "bd9052af",
   "metadata": {},
   "source": [
    "Página de referencia: https://www.w3schools.com/python/python_json.asp\n",
    "\n",
    "JSON is a syntax for storing and exchanging data.\n",
    "\n",
    "JSON is text, written with JavaScript object notation.\n",
    "        "
   ]
  },
  {
   "cell_type": "code",
   "execution_count": 90,
   "id": "13b105af",
   "metadata": {},
   "outputs": [],
   "source": []
  },
  {
   "cell_type": "code",
   "execution_count": 5,
   "id": "7bbc0faf",
   "metadata": {},
   "outputs": [],
   "source": [
    "\n",
    "class info():\n",
    "    \n",
    "    def __init__(self,id=None):\n",
    "        if id==None:\n",
    "            print('Necesitas un id para obtener información!')\n",
    "        else:\n",
    "            self.id=str(id)\n",
    "            self.info=requests.get(character_url+self.id).json()\n",
    "            self.ep=self.info['episode'][0]\n",
    "\n",
    "    def name(self):\n",
    "        return self.info['name']\n",
    "    \n",
    "    def Species(self):\n",
    "        return self.info['species']\n",
    "    \n",
    "    def First_Episode(self):\n",
    "        name_ep=requests.get(self.ep).json()['name']\n",
    "        return name_ep\n",
    "    \n",
    "    def Date_First_Episode(self):\n",
    "        date_ep=requests.get(self.ep).json()['air_date']\n",
    "        return datetime.strptime(date_ep, '%B %d, %Y').strftime('%d/%m/%Y')\n",
    "    \n",
    "        "
   ]
  },
  {
   "cell_type": "code",
   "execution_count": 6,
   "id": "5bb18601",
   "metadata": {},
   "outputs": [
    {
     "data": {
      "text/plain": [
       "'02/12/2013'"
      ]
     },
     "execution_count": 6,
     "metadata": {},
     "output_type": "execute_result"
    }
   ],
   "source": [
    "Rick=info('1')\n",
    "Rick.Date_First_Episode()"
   ]
  },
  {
   "cell_type": "code",
   "execution_count": 117,
   "id": "d0c15383",
   "metadata": {},
   "outputs": [
    {
     "data": {
      "text/plain": [
       "'02/12/2013'"
      ]
     },
     "execution_count": 117,
     "metadata": {},
     "output_type": "execute_result"
    }
   ],
   "source": [
    "datetime.strptime('December, 2 2013', '%B, %d %Y').strftime('%d/%m/%Y')"
   ]
  },
  {
   "cell_type": "code",
   "execution_count": 118,
   "id": "85705c85",
   "metadata": {},
   "outputs": [
    {
     "name": "stdout",
     "output_type": "stream",
     "text": [
      "Necesitas un id para obtener información!\n"
     ]
    }
   ],
   "source": [
    "Rick=info()\n",
    "#Rick.Species()"
   ]
  },
  {
   "cell_type": "code",
   "execution_count": 127,
   "id": "983b59c9",
   "metadata": {},
   "outputs": [
    {
     "data": {
      "text/plain": [
       "'Albert Einstein'"
      ]
     },
     "execution_count": 127,
     "metadata": {},
     "output_type": "execute_result"
    }
   ],
   "source": [
    "alguni=info(11)\n",
    "alguni.name()"
   ]
  },
  {
   "cell_type": "code",
   "execution_count": 284,
   "id": "aba629a8",
   "metadata": {},
   "outputs": [],
   "source": [
    "Task=['1','2','13','26','32']\n",
    "keys=['name','species','episode_name','air_date']"
   ]
  },
  {
   "cell_type": "code",
   "execution_count": 285,
   "id": "07006f2a",
   "metadata": {},
   "outputs": [],
   "source": [
    "\n",
    "'''json_file={}\n",
    "\n",
    "for i in Task:\n",
    "    info_id=info(i)\n",
    "    json_file['name']=info_id.name()\n",
    "    json_file['species']=info_id.Species()\n",
    "    json_file['episode_name']=info_id.First_Episode()\n",
    "    json_file['air_date']=info_id.Date_First_Episode()\n",
    "    \n",
    "   ''' \n",
    "    "
   ]
  },
  {
   "cell_type": "code",
   "execution_count": 286,
   "id": "be141502",
   "metadata": {},
   "outputs": [
    {
     "data": {
      "text/plain": [
       "{'name': 'Bearded Lady',\n",
       " 'species': 'Alien',\n",
       " 'episode_name': 'Total Rickall',\n",
       " 'air_date': '16/08/2015'}"
      ]
     },
     "execution_count": 286,
     "metadata": {},
     "output_type": "execute_result"
    }
   ],
   "source": [
    "json_file"
   ]
  },
  {
   "cell_type": "code",
   "execution_count": 12,
   "id": "21bae024",
   "metadata": {},
   "outputs": [],
   "source": [
    "\n",
    "class json_class(info):\n",
    "    def __init__(self,id=None):\n",
    "        super().__init__(id)\n",
    "    \n",
    "    def file(self):\n",
    "        json_file={}\n",
    "        json_file['name']=self.name()\n",
    "        json_file['species']=self.Species()\n",
    "        json_file['episode_name']=self.First_Episode()\n",
    "        json_file['air_date']=self.Date_First_Episode()\n",
    "        \n",
    "        return json.dumps(json_file)\n",
    "        \n"
   ]
  },
  {
   "cell_type": "code",
   "execution_count": 13,
   "id": "035a8775",
   "metadata": {},
   "outputs": [],
   "source": [
    "Rick_json=json_class(1)"
   ]
  },
  {
   "cell_type": "code",
   "execution_count": 43,
   "id": "4e53af2c",
   "metadata": {},
   "outputs": [
    {
     "name": "stdout",
     "output_type": "stream",
     "text": [
      "{\"name\": \"Rick Sanchez\", \"species\": \"Human\", \"episode_name\": \"Pilot\", \"air_date\": \"02/12/2013\"}\n"
     ]
    }
   ],
   "source": [
    "print(Rick_json.file())"
   ]
  },
  {
   "cell_type": "markdown",
   "id": "a6822fa0",
   "metadata": {},
   "source": [
    "# Now, the POST request"
   ]
  },
  {
   "cell_type": "code",
   "execution_count": 45,
   "id": "3991e742",
   "metadata": {},
   "outputs": [],
   "source": [
    "url2 = 'https://api4pluto.dudewhereismy.com.mx/rickandmorty'\n",
    "Task=['1','2','13','26','32','11']\n",
    "\n",
    "status=[]\n",
    "for i in Task:\n",
    "    character_json=json_class(i)\n",
    "    x=requests.post(url2, character_json.file())\n",
    "    status.append(x)"
   ]
  },
  {
   "cell_type": "code",
   "execution_count": 46,
   "id": "4c0c9ac4",
   "metadata": {},
   "outputs": [
    {
     "data": {
      "text/plain": [
       "[<Response [400]>,\n",
       " <Response [400]>,\n",
       " <Response [400]>,\n",
       " <Response [400]>,\n",
       " <Response [400]>,\n",
       " <Response [400]>]"
      ]
     },
     "execution_count": 46,
     "metadata": {},
     "output_type": "execute_result"
    }
   ],
   "source": [
    "status"
   ]
  },
  {
   "cell_type": "markdown",
   "id": "7998d0c0",
   "metadata": {},
   "source": [
    "# To solve the task,  we need to know more about directories:     \n",
    "    "
   ]
  },
  {
   "cell_type": "code",
   "execution_count": 219,
   "id": "aed79598",
   "metadata": {},
   "outputs": [
    {
     "data": {
      "text/plain": [
       "{'id': 11,\n",
       " 'name': 'Albert Einstein',\n",
       " 'status': 'Dead',\n",
       " 'species': 'Human',\n",
       " 'type': '',\n",
       " 'gender': 'Male',\n",
       " 'origin': {'name': 'Earth (C-137)',\n",
       "  'url': 'https://rickandmortyapi.com/api/location/1'},\n",
       " 'location': {'name': 'Earth (Replacement Dimension)',\n",
       "  'url': 'https://rickandmortyapi.com/api/location/20'},\n",
       " 'image': 'https://rickandmortyapi.com/api/character/avatar/11.jpeg',\n",
       " 'episode': ['https://rickandmortyapi.com/api/episode/12'],\n",
       " 'url': 'https://rickandmortyapi.com/api/character/11',\n",
       " 'created': '2017-11-04T20:20:20.965Z'}"
      ]
     },
     "execution_count": 219,
     "metadata": {},
     "output_type": "execute_result"
    }
   ],
   "source": [
    "Rick"
   ]
  },
  {
   "cell_type": "markdown",
   "id": "83087558",
   "metadata": {},
   "source": [
    "Rick itself is a dictionary.\n",
    "\n",
    "Dictionaries are used to store data values in **key:value** pairs.\n",
    "\n",
    "A dictionary is a collection which is ordered(if we use python version >=3.7) changeable (I can edit it, add or remove items after the dictionary has been created.) and do not allow duplicates."
   ]
  },
  {
   "cell_type": "code",
   "execution_count": 222,
   "id": "2a4ba1f6",
   "metadata": {},
   "outputs": [
    {
     "data": {
      "text/plain": [
       "11"
      ]
     },
     "execution_count": 222,
     "metadata": {},
     "output_type": "execute_result"
    }
   ],
   "source": [
    "Rick['id']"
   ]
  },
  {
   "cell_type": "markdown",
   "id": "33ef152d",
   "metadata": {},
   "source": [
    "Esto tambien se puede hacer con un get:"
   ]
  },
  {
   "cell_type": "code",
   "execution_count": 231,
   "id": "6babdaa8",
   "metadata": {},
   "outputs": [
    {
     "data": {
      "text/plain": [
       "11"
      ]
     },
     "execution_count": 231,
     "metadata": {},
     "output_type": "execute_result"
    }
   ],
   "source": [
    "Rick.get('id')"
   ]
  },
  {
   "cell_type": "markdown",
   "id": "8df810d6",
   "metadata": {},
   "source": [
    "Duplicate values will overwrite existing values:\n",
    "\n"
   ]
  },
  {
   "cell_type": "code",
   "execution_count": 223,
   "id": "94b76b6a",
   "metadata": {},
   "outputs": [
    {
     "name": "stdout",
     "output_type": "stream",
     "text": [
      "{'brand': 'Ford', 'model': 'Mustang', 'year': 2020}\n"
     ]
    }
   ],
   "source": [
    "thisdict = {\n",
    "  \"brand\": \"Ford\",\n",
    "  \"model\": \"Mustang\",\n",
    "  \"year\": 1964,\n",
    "  \"year\": 2020\n",
    "}\n",
    "print(thisdict)"
   ]
  },
  {
   "cell_type": "code",
   "execution_count": 224,
   "id": "0d8b30f0",
   "metadata": {},
   "outputs": [
    {
     "data": {
      "text/plain": [
       "12"
      ]
     },
     "execution_count": 224,
     "metadata": {},
     "output_type": "execute_result"
    }
   ],
   "source": [
    "len(Rick)"
   ]
  },
  {
   "cell_type": "code",
   "execution_count": 225,
   "id": "9aa85d5d",
   "metadata": {},
   "outputs": [
    {
     "data": {
      "text/plain": [
       "3"
      ]
     },
     "execution_count": 225,
     "metadata": {},
     "output_type": "execute_result"
    }
   ],
   "source": [
    "len(thisdict)"
   ]
  },
  {
   "cell_type": "markdown",
   "id": "25814fa5",
   "metadata": {},
   "source": [
    "We can have any type of information:\n",
    "String, int, boolean, and list data types:\n"
   ]
  },
  {
   "cell_type": "code",
   "execution_count": 226,
   "id": "8b5a84bc",
   "metadata": {},
   "outputs": [],
   "source": [
    "thisdict = {\n",
    "  \"brand\": \"Ford\",\n",
    "  \"electric\": False,\n",
    "  \"year\": 1964,\n",
    "  \"colors\": [\"red\", \"white\", \"blue\"]\n",
    "}"
   ]
  },
  {
   "cell_type": "markdown",
   "id": "1f86449b",
   "metadata": {},
   "source": [
    "## type\n",
    "From Python's perspective, dictionaries are defined as objects with the data type 'dict': <class 'dict'>"
   ]
  },
  {
   "cell_type": "code",
   "execution_count": 227,
   "id": "2bc0cf95",
   "metadata": {},
   "outputs": [
    {
     "data": {
      "text/plain": [
       "dict"
      ]
     },
     "execution_count": 227,
     "metadata": {},
     "output_type": "execute_result"
    }
   ],
   "source": [
    "type(thisdict)"
   ]
  },
  {
   "cell_type": "code",
   "execution_count": 228,
   "id": "64cf752f",
   "metadata": {},
   "outputs": [
    {
     "data": {
      "text/plain": [
       "dict"
      ]
     },
     "execution_count": 228,
     "metadata": {},
     "output_type": "execute_result"
    }
   ],
   "source": [
    "type(Rick)"
   ]
  },
  {
   "cell_type": "markdown",
   "id": "012debea",
   "metadata": {},
   "source": [
    "## dict Constructor\n",
    "To make a dictionary"
   ]
  },
  {
   "cell_type": "code",
   "execution_count": 229,
   "id": "2247e3fe",
   "metadata": {},
   "outputs": [
    {
     "name": "stdout",
     "output_type": "stream",
     "text": [
      "{'name': 'John', 'age': 36, 'country': 'Norway'}\n"
     ]
    }
   ],
   "source": [
    "thisdict = dict(name = \"John\", age = 36, country = \"Norway\")\n",
    "print(thisdict)"
   ]
  },
  {
   "cell_type": "markdown",
   "id": "5bee6f73",
   "metadata": {},
   "source": [
    "# Python Collections (Arrays)\n",
    "\n",
    "There are four collection data types in the Python programming language:\n",
    "\n",
    "- **List** is a collection which is ordered and changeable. Allows duplicate members.\n",
    "\n",
    ".\n",
    "- **Tuple** is a collection which is ordered and unchangeable. Allows duplicate members.\n",
    "\n",
    ".\n",
    "- **Set** is a collection which is unordered, unchangeable*, and unindexed. No duplicate members.\n",
    "\n",
    ".\n",
    "- **Dictionary** is a collection which is ordered and changeable. No duplicate members.\n",
    "\n",
    "When choosing a collection type, it is useful to understand the properties of that type. Choosing the right type for a particular data set could mean retention of meaning, and, it could mean an increase in efficiency or security."
   ]
  },
  {
   "cell_type": "markdown",
   "id": "dab83354",
   "metadata": {},
   "source": [
    "## Get keys\n",
    "The keys() method will return a list of all the keys in the dictionary.\n",
    "\n"
   ]
  },
  {
   "cell_type": "code",
   "execution_count": 234,
   "id": "b002062e",
   "metadata": {},
   "outputs": [
    {
     "data": {
      "text/plain": [
       "dict_keys(['id', 'name', 'status', 'species', 'type', 'gender', 'origin', 'location', 'image', 'episode', 'url', 'created'])"
      ]
     },
     "execution_count": 234,
     "metadata": {},
     "output_type": "execute_result"
    }
   ],
   "source": [
    "Rick.keys()"
   ]
  },
  {
   "cell_type": "markdown",
   "id": "01dfce75",
   "metadata": {},
   "source": [
    "## Add item"
   ]
  },
  {
   "cell_type": "code",
   "execution_count": 235,
   "id": "4658eb73",
   "metadata": {},
   "outputs": [],
   "source": [
    "Rick['hate']=\"Adolf abraham\""
   ]
  },
  {
   "cell_type": "code",
   "execution_count": 236,
   "id": "c1c4cffe",
   "metadata": {},
   "outputs": [
    {
     "data": {
      "text/plain": [
       "dict_keys(['id', 'name', 'status', 'species', 'type', 'gender', 'origin', 'location', 'image', 'episode', 'url', 'created', 'hate'])"
      ]
     },
     "execution_count": 236,
     "metadata": {},
     "output_type": "execute_result"
    }
   ],
   "source": [
    "Rick.keys()"
   ]
  },
  {
   "cell_type": "markdown",
   "id": "eed512a7",
   "metadata": {},
   "source": [
    "## Get values\n",
    "The values() method will return a list of all the values in the dictionary.\n",
    "\n"
   ]
  },
  {
   "cell_type": "code",
   "execution_count": 237,
   "id": "0969c6d6",
   "metadata": {},
   "outputs": [
    {
     "data": {
      "text/plain": [
       "dict_values([11, 'Albert Einstein', 'Dead', 'Human', '', 'Male', {'name': 'Earth (C-137)', 'url': 'https://rickandmortyapi.com/api/location/1'}, {'name': 'Earth (Replacement Dimension)', 'url': 'https://rickandmortyapi.com/api/location/20'}, 'https://rickandmortyapi.com/api/character/avatar/11.jpeg', ['https://rickandmortyapi.com/api/episode/12'], 'https://rickandmortyapi.com/api/character/11', '2017-11-04T20:20:20.965Z', 'Adolf abraham'])"
      ]
     },
     "execution_count": 237,
     "metadata": {},
     "output_type": "execute_result"
    }
   ],
   "source": [
    "Rick.values()"
   ]
  },
  {
   "cell_type": "code",
   "execution_count": 238,
   "id": "80549951",
   "metadata": {},
   "outputs": [],
   "source": [
    "Rick['gender']='female'"
   ]
  },
  {
   "cell_type": "code",
   "execution_count": 239,
   "id": "a6e8888e",
   "metadata": {},
   "outputs": [
    {
     "data": {
      "text/plain": [
       "dict_values([11, 'Albert Einstein', 'Dead', 'Human', '', 'female', {'name': 'Earth (C-137)', 'url': 'https://rickandmortyapi.com/api/location/1'}, {'name': 'Earth (Replacement Dimension)', 'url': 'https://rickandmortyapi.com/api/location/20'}, 'https://rickandmortyapi.com/api/character/avatar/11.jpeg', ['https://rickandmortyapi.com/api/episode/12'], 'https://rickandmortyapi.com/api/character/11', '2017-11-04T20:20:20.965Z', 'Adolf abraham'])"
      ]
     },
     "execution_count": 239,
     "metadata": {},
     "output_type": "execute_result"
    }
   ],
   "source": [
    "Rick.values()"
   ]
  },
  {
   "cell_type": "markdown",
   "id": "47bc068b",
   "metadata": {},
   "source": [
    "## Update Dictionary\n",
    "The update() method will update the dictionary with the items from the given argument."
   ]
  },
  {
   "cell_type": "code",
   "execution_count": 249,
   "id": "2e3643c8",
   "metadata": {},
   "outputs": [],
   "source": [
    "Rick.update({'id':12})"
   ]
  },
  {
   "cell_type": "code",
   "execution_count": 250,
   "id": "e52cd4c4",
   "metadata": {},
   "outputs": [
    {
     "data": {
      "text/plain": [
       "dict_items([('id', 12), ('name', 'Albert Einstein'), ('status', 'Dead'), ('species', 'Human'), ('type', ''), ('gender', 'female'), ('origin', {'name': 'Earth (C-137)', 'url': 'https://rickandmortyapi.com/api/location/1'}), ('location', {'name': 'Earth (Replacement Dimension)', 'url': 'https://rickandmortyapi.com/api/location/20'}), ('image', 'https://rickandmortyapi.com/api/character/avatar/11.jpeg'), ('episode', ['https://rickandmortyapi.com/api/episode/12']), ('url', 'https://rickandmortyapi.com/api/character/11'), ('created', '2017-11-04T20:20:20.965Z'), ('hate', 'Adolf abraham')])"
      ]
     },
     "execution_count": 250,
     "metadata": {},
     "output_type": "execute_result"
    }
   ],
   "source": [
    "Rick.items()"
   ]
  },
  {
   "cell_type": "markdown",
   "id": "898ef440",
   "metadata": {},
   "source": [
    "## Get items\n",
    "The items() method will return each item in a dictionary, as tuples in a list."
   ]
  },
  {
   "cell_type": "code",
   "execution_count": 241,
   "id": "fdd073de",
   "metadata": {},
   "outputs": [
    {
     "data": {
      "text/plain": [
       "dict_items([('id', 11), ('name', 'Albert Einstein'), ('status', 'Dead'), ('species', 'Human'), ('type', ''), ('gender', 'female'), ('origin', {'name': 'Earth (C-137)', 'url': 'https://rickandmortyapi.com/api/location/1'}), ('location', {'name': 'Earth (Replacement Dimension)', 'url': 'https://rickandmortyapi.com/api/location/20'}), ('image', 'https://rickandmortyapi.com/api/character/avatar/11.jpeg'), ('episode', ['https://rickandmortyapi.com/api/episode/12']), ('url', 'https://rickandmortyapi.com/api/character/11'), ('created', '2017-11-04T20:20:20.965Z'), ('hate', 'Adolf abraham')])"
      ]
     },
     "execution_count": 241,
     "metadata": {},
     "output_type": "execute_result"
    }
   ],
   "source": [
    "Rick.items()"
   ]
  },
  {
   "cell_type": "markdown",
   "id": "3f9cf270",
   "metadata": {},
   "source": [
    "## Check if Key Exists\n",
    "To determine if a specified key is present in a dictionary use the in keyword:\n",
    "\n"
   ]
  },
  {
   "cell_type": "code",
   "execution_count": 245,
   "id": "24e26c1d",
   "metadata": {},
   "outputs": [
    {
     "data": {
      "text/plain": [
       "False"
      ]
     },
     "execution_count": 245,
     "metadata": {},
     "output_type": "execute_result"
    }
   ],
   "source": [
    "'Dead' in Rick"
   ]
  },
  {
   "cell_type": "code",
   "execution_count": 246,
   "id": "0f2a68ac",
   "metadata": {},
   "outputs": [
    {
     "data": {
      "text/plain": [
       "True"
      ]
     },
     "execution_count": 246,
     "metadata": {},
     "output_type": "execute_result"
    }
   ],
   "source": [
    "'id' in Rick"
   ]
  },
  {
   "cell_type": "markdown",
   "id": "a835ce78",
   "metadata": {},
   "source": [
    "## Add Items"
   ]
  },
  {
   "cell_type": "code",
   "execution_count": 251,
   "id": "b759b96f",
   "metadata": {},
   "outputs": [],
   "source": [
    "Rick['new friend']='dany'"
   ]
  },
  {
   "cell_type": "code",
   "execution_count": 252,
   "id": "6f0846ec",
   "metadata": {},
   "outputs": [
    {
     "data": {
      "text/plain": [
       "dict_items([('id', 12), ('name', 'Albert Einstein'), ('status', 'Dead'), ('species', 'Human'), ('type', ''), ('gender', 'female'), ('origin', {'name': 'Earth (C-137)', 'url': 'https://rickandmortyapi.com/api/location/1'}), ('location', {'name': 'Earth (Replacement Dimension)', 'url': 'https://rickandmortyapi.com/api/location/20'}), ('image', 'https://rickandmortyapi.com/api/character/avatar/11.jpeg'), ('episode', ['https://rickandmortyapi.com/api/episode/12']), ('url', 'https://rickandmortyapi.com/api/character/11'), ('created', '2017-11-04T20:20:20.965Z'), ('hate', 'Adolf abraham'), ('new friend', 'dany')])"
      ]
     },
     "execution_count": 252,
     "metadata": {},
     "output_type": "execute_result"
    }
   ],
   "source": [
    "Rick.items()"
   ]
  },
  {
   "cell_type": "code",
   "execution_count": 253,
   "id": "89e87c70",
   "metadata": {},
   "outputs": [],
   "source": [
    "Rick.update({'new friend1':'ricardo'})"
   ]
  },
  {
   "cell_type": "code",
   "execution_count": 255,
   "id": "b8628d2d",
   "metadata": {},
   "outputs": [
    {
     "data": {
      "text/plain": [
       "dict_items([('id', 12), ('name', 'Albert Einstein'), ('status', 'Dead'), ('species', 'Human'), ('type', ''), ('gender', 'female'), ('origin', {'name': 'Earth (C-137)', 'url': 'https://rickandmortyapi.com/api/location/1'}), ('location', {'name': 'Earth (Replacement Dimension)', 'url': 'https://rickandmortyapi.com/api/location/20'}), ('image', 'https://rickandmortyapi.com/api/character/avatar/11.jpeg'), ('episode', ['https://rickandmortyapi.com/api/episode/12']), ('url', 'https://rickandmortyapi.com/api/character/11'), ('created', '2017-11-04T20:20:20.965Z'), ('hate', 'Adolf abraham'), ('new friend', 'dany'), ('new friend1', 'ricardo')])"
      ]
     },
     "execution_count": 255,
     "metadata": {},
     "output_type": "execute_result"
    }
   ],
   "source": [
    "Rick.items()"
   ]
  },
  {
   "cell_type": "markdown",
   "id": "93554334",
   "metadata": {},
   "source": [
    "## Removing Items\n",
    "There are several methods to do that"
   ]
  },
  {
   "cell_type": "code",
   "execution_count": 256,
   "id": "d9d14d36",
   "metadata": {},
   "outputs": [
    {
     "data": {
      "text/plain": [
       "'dany'"
      ]
     },
     "execution_count": 256,
     "metadata": {},
     "output_type": "execute_result"
    }
   ],
   "source": [
    "Rick.pop('new friend')"
   ]
  },
  {
   "cell_type": "code",
   "execution_count": 257,
   "id": "4765b57f",
   "metadata": {},
   "outputs": [
    {
     "data": {
      "text/plain": [
       "{'id': 12,\n",
       " 'name': 'Albert Einstein',\n",
       " 'status': 'Dead',\n",
       " 'species': 'Human',\n",
       " 'type': '',\n",
       " 'gender': 'female',\n",
       " 'origin': {'name': 'Earth (C-137)',\n",
       "  'url': 'https://rickandmortyapi.com/api/location/1'},\n",
       " 'location': {'name': 'Earth (Replacement Dimension)',\n",
       "  'url': 'https://rickandmortyapi.com/api/location/20'},\n",
       " 'image': 'https://rickandmortyapi.com/api/character/avatar/11.jpeg',\n",
       " 'episode': ['https://rickandmortyapi.com/api/episode/12'],\n",
       " 'url': 'https://rickandmortyapi.com/api/character/11',\n",
       " 'created': '2017-11-04T20:20:20.965Z',\n",
       " 'hate': 'Adolf abraham',\n",
       " 'new friend1': 'ricardo'}"
      ]
     },
     "execution_count": 257,
     "metadata": {},
     "output_type": "execute_result"
    }
   ],
   "source": [
    "Rick"
   ]
  },
  {
   "cell_type": "markdown",
   "id": "358bf876",
   "metadata": {},
   "source": [
    "- The popitem() method removes the last inserted item (in versions before 3.7, a random item is removed instead):"
   ]
  },
  {
   "cell_type": "code",
   "execution_count": 259,
   "id": "4a4173b5",
   "metadata": {},
   "outputs": [
    {
     "data": {
      "text/plain": [
       "('new friend1', 'ricardo')"
      ]
     },
     "execution_count": 259,
     "metadata": {},
     "output_type": "execute_result"
    }
   ],
   "source": [
    "Rick.popitem()"
   ]
  },
  {
   "cell_type": "code",
   "execution_count": 260,
   "id": "85a645fd",
   "metadata": {},
   "outputs": [
    {
     "data": {
      "text/plain": [
       "{'id': 12,\n",
       " 'name': 'Albert Einstein',\n",
       " 'status': 'Dead',\n",
       " 'species': 'Human',\n",
       " 'type': '',\n",
       " 'gender': 'female',\n",
       " 'origin': {'name': 'Earth (C-137)',\n",
       "  'url': 'https://rickandmortyapi.com/api/location/1'},\n",
       " 'location': {'name': 'Earth (Replacement Dimension)',\n",
       "  'url': 'https://rickandmortyapi.com/api/location/20'},\n",
       " 'image': 'https://rickandmortyapi.com/api/character/avatar/11.jpeg',\n",
       " 'episode': ['https://rickandmortyapi.com/api/episode/12'],\n",
       " 'url': 'https://rickandmortyapi.com/api/character/11',\n",
       " 'created': '2017-11-04T20:20:20.965Z',\n",
       " 'hate': 'Adolf abraham'}"
      ]
     },
     "execution_count": 260,
     "metadata": {},
     "output_type": "execute_result"
    }
   ],
   "source": [
    "Rick"
   ]
  },
  {
   "cell_type": "code",
   "execution_count": 262,
   "id": "e7c32d3e",
   "metadata": {},
   "outputs": [],
   "source": [
    "del Rick['hate']"
   ]
  },
  {
   "cell_type": "code",
   "execution_count": 263,
   "id": "3f6679bd",
   "metadata": {},
   "outputs": [
    {
     "data": {
      "text/plain": [
       "{'id': 12,\n",
       " 'name': 'Albert Einstein',\n",
       " 'status': 'Dead',\n",
       " 'species': 'Human',\n",
       " 'type': '',\n",
       " 'gender': 'female',\n",
       " 'origin': {'name': 'Earth (C-137)',\n",
       "  'url': 'https://rickandmortyapi.com/api/location/1'},\n",
       " 'location': {'name': 'Earth (Replacement Dimension)',\n",
       "  'url': 'https://rickandmortyapi.com/api/location/20'},\n",
       " 'image': 'https://rickandmortyapi.com/api/character/avatar/11.jpeg',\n",
       " 'episode': ['https://rickandmortyapi.com/api/episode/12'],\n",
       " 'url': 'https://rickandmortyapi.com/api/character/11',\n",
       " 'created': '2017-11-04T20:20:20.965Z'}"
      ]
     },
     "execution_count": 263,
     "metadata": {},
     "output_type": "execute_result"
    }
   ],
   "source": [
    "Rick"
   ]
  },
  {
   "cell_type": "markdown",
   "id": "3843cced",
   "metadata": {},
   "source": [
    "# The **del** keyword can also delete the dictionary completely!!\n",
    "\n"
   ]
  },
  {
   "cell_type": "code",
   "execution_count": 270,
   "id": "1448c76d",
   "metadata": {},
   "outputs": [
    {
     "data": {
      "text/plain": [
       "{'brand': 'Ford', 'model': 'Mustang', 'year': 1964}"
      ]
     },
     "execution_count": 270,
     "metadata": {},
     "output_type": "execute_result"
    }
   ],
   "source": [
    "thisdict = {\n",
    "  \"brand\": \"Ford\",\n",
    "  \"model\": \"Mustang\",\n",
    "  \"year\": 1964\n",
    "}\n",
    "thisdict"
   ]
  },
  {
   "cell_type": "code",
   "execution_count": 271,
   "id": "290b25ed",
   "metadata": {},
   "outputs": [],
   "source": [
    "#del thisdict\n",
    "#thisdict #this will cause an error because \"thisdict\" no longer exists."
   ]
  },
  {
   "cell_type": "code",
   "execution_count": 272,
   "id": "9a2a1abe",
   "metadata": {},
   "outputs": [],
   "source": [
    "thisdict.clear()"
   ]
  },
  {
   "cell_type": "code",
   "execution_count": 273,
   "id": "fa7c54a0",
   "metadata": {},
   "outputs": [
    {
     "data": {
      "text/plain": [
       "{}"
      ]
     },
     "execution_count": 273,
     "metadata": {},
     "output_type": "execute_result"
    }
   ],
   "source": [
    "thisdict"
   ]
  },
  {
   "cell_type": "markdown",
   "id": "7cad890f",
   "metadata": {},
   "source": [
    "## Loops:"
   ]
  },
  {
   "cell_type": "code",
   "execution_count": 276,
   "id": "e4068dd7",
   "metadata": {},
   "outputs": [
    {
     "name": "stdout",
     "output_type": "stream",
     "text": [
      "x= brand     thisdict[x]= Ford\n",
      "x= model     thisdict[x]= Mustang\n",
      "x= year     thisdict[x]= 1964\n"
     ]
    }
   ],
   "source": [
    "thisdict = {\n",
    "  \"brand\": \"Ford\",\n",
    "  \"model\": \"Mustang\",\n",
    "  \"year\": 1964\n",
    "}\n",
    "\n",
    "for x in thisdict:\n",
    "    print('x=',x,'    thisdict[x]=',thisdict[x])"
   ]
  },
  {
   "cell_type": "code",
   "execution_count": 277,
   "id": "51a6db5f",
   "metadata": {},
   "outputs": [
    {
     "name": "stdout",
     "output_type": "stream",
     "text": [
      "Ford\n",
      "Mustang\n",
      "1964\n"
     ]
    }
   ],
   "source": [
    "for x in thisdict.values():\n",
    "  print(x)"
   ]
  },
  {
   "cell_type": "code",
   "execution_count": 278,
   "id": "de9f38e5",
   "metadata": {},
   "outputs": [
    {
     "name": "stdout",
     "output_type": "stream",
     "text": [
      "brand\n",
      "model\n",
      "year\n"
     ]
    }
   ],
   "source": [
    "for x in thisdict.keys():\n",
    "  print(x)"
   ]
  },
  {
   "cell_type": "code",
   "execution_count": 279,
   "id": "f1c26495",
   "metadata": {},
   "outputs": [
    {
     "name": "stdout",
     "output_type": "stream",
     "text": [
      "brand Ford\n",
      "model Mustang\n",
      "year 1964\n"
     ]
    }
   ],
   "source": [
    "for x, y in thisdict.items():\n",
    "  print(x, y)"
   ]
  },
  {
   "cell_type": "markdown",
   "id": "4cff92dd",
   "metadata": {},
   "source": [
    "## Copy a Dictionary\n",
    "You cannot copy a dictionary simply by typing dict2 = dict1, because: dict2 will only be a reference to dict1, and changes made in dict1 will automatically also be made in dict2.\n",
    "\n",
    "There are ways to make a copy, one way is to use the built-in Dictionary method copy()."
   ]
  },
  {
   "cell_type": "code",
   "execution_count": null,
   "id": "fff5c19c",
   "metadata": {},
   "outputs": [],
   "source": [
    "mydict = thisdict.copy()\n",
    "mydict = dict(thisdict)\n"
   ]
  },
  {
   "cell_type": "markdown",
   "id": "87e7b442",
   "metadata": {},
   "source": [
    "## Create"
   ]
  },
  {
   "cell_type": "code",
   "execution_count": 280,
   "id": "70a70a40",
   "metadata": {},
   "outputs": [],
   "source": [
    "my_dictionary={}"
   ]
  },
  {
   "cell_type": "code",
   "execution_count": 282,
   "id": "d3b0c743",
   "metadata": {},
   "outputs": [],
   "source": [
    "my_dictionary['new friend']='dany'"
   ]
  },
  {
   "cell_type": "code",
   "execution_count": null,
   "id": "2225e6ab",
   "metadata": {},
   "outputs": [],
   "source": [
    "my_dic"
   ]
  },
  {
   "cell_type": "code",
   "execution_count": null,
   "id": "493b0f68",
   "metadata": {},
   "outputs": [],
   "source": [
    "aDict = {\"a\":54, \"b\":87}\n",
    "jsonString = json.dumps(aDict)\n",
    "jsonFile = open(\"data.json\", \"w\")\n",
    "jsonFile.write(jsonString)\n",
    "jsonFile.close()"
   ]
  },
  {
   "cell_type": "code",
   "execution_count": 48,
   "id": "c2810717",
   "metadata": {},
   "outputs": [],
   "source": []
  },
  {
   "cell_type": "code",
   "execution_count": null,
   "id": "a286e455",
   "metadata": {},
   "outputs": [],
   "source": []
  },
  {
   "cell_type": "code",
   "execution_count": null,
   "id": "ca92f75f",
   "metadata": {},
   "outputs": [],
   "source": []
  },
  {
   "cell_type": "code",
   "execution_count": null,
   "id": "74243cb8",
   "metadata": {},
   "outputs": [],
   "source": []
  },
  {
   "cell_type": "code",
   "execution_count": null,
   "id": "ae221e9a",
   "metadata": {},
   "outputs": [],
   "source": []
  },
  {
   "cell_type": "code",
   "execution_count": null,
   "id": "7dbad5a8",
   "metadata": {},
   "outputs": [],
   "source": []
  },
  {
   "cell_type": "code",
   "execution_count": null,
   "id": "6317bc1d",
   "metadata": {},
   "outputs": [],
   "source": []
  }
 ],
 "metadata": {
  "kernelspec": {
   "display_name": "Python 3 (ipykernel)",
   "language": "python",
   "name": "python3"
  },
  "language_info": {
   "codemirror_mode": {
    "name": "ipython",
    "version": 3
   },
   "file_extension": ".py",
   "mimetype": "text/x-python",
   "name": "python",
   "nbconvert_exporter": "python",
   "pygments_lexer": "ipython3",
   "version": "3.8.10"
  }
 },
 "nbformat": 4,
 "nbformat_minor": 5
}
